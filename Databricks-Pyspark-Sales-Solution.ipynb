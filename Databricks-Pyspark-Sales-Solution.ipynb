{
 "cells": [
  {
   "cell_type": "code",
   "execution_count": 0,
   "metadata": {
    "application/vnd.databricks.v1+cell": {
     "cellMetadata": {
      "byteLimit": 2048000,
      "rowLimit": 10000
     },
     "inputWidgets": {},
     "nuid": "ec458317-daf8-4529-9d01-cbde3c1303d0",
     "showTitle": false,
     "title": ""
    }
   },
   "outputs": [
    {
     "output_type": "stream",
     "name": "stdout",
     "output_type": "stream",
     "text": [
      "+--------+--------------------+----------------+----------+--------------+--------------------+\n|Order ID|             Product|Quantity Ordered|Price Each|    Order Date|    Purchase Address|\n+--------+--------------------+----------------+----------+--------------+--------------------+\n|  162009|              iPhone|               1|     700.0|03/28/19 20:59|942 Church St, Au...|\n|  162009|Lightning Chargin...|               1|     14.95|03/28/19 20:59|942 Church St, Au...|\n|  162009|    Wired Headphones|               2|     11.99|03/28/19 20:59|942 Church St, Au...|\n|  162010|Bose SoundSport H...|               1|     99.99|03/17/19 05:39|261 10th St, San ...|\n|  162011|34in Ultrawide Mo...|               1|    379.99|03/10/19 00:01|764 13th St, San ...|\n|  162012|AA Batteries (4-p...|               1|      3.84|03/20/19 21:33|187 Ridge St, San...|\n|  162013|34in Ultrawide Mo...|               1|    379.99|03/15/19 23:05|904 Main St, Aust...|\n|  162014|USB-C Charging Cable|               1|     11.95|03/01/19 21:33|10 13th St, San F...|\n|  162015|AA Batteries (4-p...|               1|      3.84|03/02/19 08:52|949 Jefferson St,...|\n|  162016|AAA Batteries (4-...|               5|      2.99|03/19/19 21:10|469 Highland St, ...|\n|  162017|Lightning Chargin...|               1|     14.95|03/02/19 13:55|449 River St, San...|\n|  162018|USB-C Charging Cable|               2|     11.95|03/18/19 11:07|925 Maple St, Por...|\n|  162019|AAA Batteries (4-...|               1|      2.99|03/05/19 12:20|639 4th St, Atlan...|\n|  162020|  LG Washing Machine|               1|     600.0|03/26/19 18:17|616 Jackson St, D...|\n|  162021|    Wired Headphones|               1|     11.99|03/30/19 12:02|645 Wilson St, Lo...|\n|  162022|AA Batteries (4-p...|               1|      3.84|03/17/19 22:18|473 Hill St, New ...|\n|  162023|Apple Airpods Hea...|               1|     150.0|03/11/19 20:00|404 Park St, San ...|\n|  162024|27in 4K Gaming Mo...|               1|    389.99|03/17/19 09:22|952 Willow St, At...|\n|  162025|AAA Batteries (4-...|               1|      2.99|03/07/19 20:50|110 7th St, Bosto...|\n|  162026|              iPhone|               1|     700.0|03/22/19 22:31|71 Pine St, Austi...|\n+--------+--------------------+----------------+----------+--------------+--------------------+\nonly showing top 20 rows\n\nroot\n |-- Order ID: integer (nullable = true)\n |-- Product: string (nullable = true)\n |-- Quantity Ordered: integer (nullable = true)\n |-- Price Each: double (nullable = true)\n |-- Order Date: string (nullable = true)\n |-- Purchase Address: string (nullable = true)\n\n"
     ]
    }
   ],
   "source": [
    "from pyspark.sql.types import StructType, StructField, DateType, StringType, IntegerType, FloatType,TimestampType,DateType\n",
    "from pyspark.sql.functions import col, to_timestamp,count,lead,unix_timestamp, date_format,desc,to_date\n",
    "from pyspark.sql.window import Window\n",
    "from datetime import datetime\n",
    "\n",
    "\"\"\"df = spark.read.format(\"csv\") \\\n",
    "  .option(\"inferSchema\", True) \\\n",
    "  .option(\"header\", True) \\\n",
    "  .option(\"sep\", ',') \\\n",
    "  .load([\"dbfs:/FileStore/Sales_January_2019.csv\",\"dbfs:/FileStore/Sales_February_2019.csv\",\"dbfs:/FileStore/Sales_March_2019.csv\"])\n",
    "\"\"\"\n",
    "df=spark.read.csv(path=[\"dbfs:/FileStore/Sales_January_2019.csv\",\"dbfs:/FileStore/Sales_February_2019.csv\",\"dbfs:/FileStore/Sales_March_2019.csv\"],inferSchema=True,header=True,sep=',')\n",
    "\n",
    "\n",
    "\n",
    "df.show()\n",
    "df.printSchema()\n",
    "\n"
   ]
  },
  {
   "cell_type": "code",
   "execution_count": 0,
   "metadata": {
    "application/vnd.databricks.v1+cell": {
     "cellMetadata": {
      "byteLimit": 2048000,
      "rowLimit": 10000
     },
     "inputWidgets": {},
     "nuid": "6d306860-8e26-401e-a5ce-a7ca41596a4f",
     "showTitle": false,
     "title": ""
    }
   },
   "outputs": [
    {
     "output_type": "stream",
     "name": "stdout",
     "output_type": "stream",
     "text": [
      "rawcount= 36985\ncleancount= 36821\n"
     ]
    }
   ],
   "source": [
    "#1.\tCleanse the data removing blank rows \n",
    "print(\"rawcount=\",df.count())\n",
    "\n",
    "df2=df.dropna(how=\"any\")\n",
    "\n",
    "print(\"cleancount=\",df2.count())\n"
   ]
  },
  {
   "cell_type": "code",
   "execution_count": 0,
   "metadata": {
    "application/vnd.databricks.v1+cell": {
     "cellMetadata": {
      "byteLimit": 2048000,
      "rowLimit": 10000
     },
     "inputWidgets": {},
     "nuid": "3ba75368-91cc-41fa-bb0e-433ba2845722",
     "showTitle": false,
     "title": ""
    }
   },
   "outputs": [
    {
     "output_type": "stream",
     "name": "stdout",
     "output_type": "stream",
     "text": [
      "+--------+--------------------+--------+------+----------+--------------------+\n|Order_id|             Product|Quantity| Price|Order_date|             Address|\n+--------+--------------------+--------+------+----------+--------------------+\n|  162009|              iPhone|       1| 700.0|03-28-2019|942 Church St, Au...|\n|  162009|Lightning Chargin...|       1| 14.95|03-28-2019|942 Church St, Au...|\n|  162009|    Wired Headphones|       2| 11.99|03-28-2019|942 Church St, Au...|\n|  162010|Bose SoundSport H...|       1| 99.99|03-17-2019|261 10th St, San ...|\n|  162011|34in Ultrawide Mo...|       1|379.99|03-10-2019|764 13th St, San ...|\n|  162012|AA Batteries (4-p...|       1|  3.84|03-20-2019|187 Ridge St, San...|\n|  162013|34in Ultrawide Mo...|       1|379.99|03-15-2019|904 Main St, Aust...|\n|  162014|USB-C Charging Cable|       1| 11.95|03-01-2019|10 13th St, San F...|\n|  162015|AA Batteries (4-p...|       1|  3.84|03-02-2019|949 Jefferson St,...|\n|  162016|AAA Batteries (4-...|       5|  2.99|03-19-2019|469 Highland St, ...|\n|  162017|Lightning Chargin...|       1| 14.95|03-02-2019|449 River St, San...|\n|  162018|USB-C Charging Cable|       2| 11.95|03-18-2019|925 Maple St, Por...|\n|  162019|AAA Batteries (4-...|       1|  2.99|03-05-2019|639 4th St, Atlan...|\n|  162020|  LG Washing Machine|       1| 600.0|03-26-2019|616 Jackson St, D...|\n|  162021|    Wired Headphones|       1| 11.99|03-30-2019|645 Wilson St, Lo...|\n|  162022|AA Batteries (4-p...|       1|  3.84|03-17-2019|473 Hill St, New ...|\n|  162023|Apple Airpods Hea...|       1| 150.0|03-11-2019|404 Park St, San ...|\n|  162024|27in 4K Gaming Mo...|       1|389.99|03-17-2019|952 Willow St, At...|\n|  162025|AAA Batteries (4-...|       1|  2.99|03-07-2019|110 7th St, Bosto...|\n|  162026|              iPhone|       1| 700.0|03-22-2019|71 Pine St, Austi...|\n+--------+--------------------+--------+------+----------+--------------------+\nonly showing top 20 rows\n\nroot\n |-- Order_id: integer (nullable = true)\n |-- Product: string (nullable = true)\n |-- Quantity: integer (nullable = true)\n |-- Price: double (nullable = true)\n |-- Order_date: string (nullable = true)\n |-- Address: string (nullable = true)\n\n"
     ]
    }
   ],
   "source": [
    "#CHanging column names \n",
    "\n",
    "df2=df2.withColumnRenamed('Quantity Ordered','Quantity')\n",
    "df2=df2.withColumnRenamed('Order Date','Order_date')\n",
    "df2=df2.withColumnRenamed('Price Each','Price')\n",
    "df2=df2.withColumnRenamed('Order ID','Order_id')\n",
    "df2=df2.withColumnRenamed('Purchase Address','Address')\n",
    "df2 = df2.withColumn(\"Order_date\", date_format(unix_timestamp(col(\"Order_date\"), \"MM/dd/yy HH:mm\").cast(\"timestamp\"), \"MM-dd-yyyy\"))\n",
    "\n",
    "df2.show()\n",
    "df2.printSchema()"
   ]
  },
  {
   "cell_type": "code",
   "execution_count": 0,
   "metadata": {
    "application/vnd.databricks.v1+cell": {
     "cellMetadata": {
      "byteLimit": 2048000,
      "rowLimit": 10000
     },
     "inputWidgets": {},
     "nuid": "5f679dfd-32d5-4ad7-aac2-7bc3969051b7",
     "showTitle": false,
     "title": ""
    }
   },
   "outputs": [
    {
     "output_type": "stream",
     "name": "stdout",
     "output_type": "stream",
     "text": [
      "+--------+--------------------+--------+------+----------+--------------------+------------------+\n|Order_id|             Product|Quantity| Price|Order_date|             Address|             sales|\n+--------+--------------------+--------+------+----------+--------------------+------------------+\n|  162009|              iPhone|       1| 700.0|03-28-2019|942 Church St, Au...|             700.0|\n|  162009|Lightning Chargin...|       1| 14.95|03-28-2019|942 Church St, Au...|             14.95|\n|  162009|    Wired Headphones|       2| 11.99|03-28-2019|942 Church St, Au...|             23.98|\n|  162010|Bose SoundSport H...|       1| 99.99|03-17-2019|261 10th St, San ...|             99.99|\n|  162011|34in Ultrawide Mo...|       1|379.99|03-10-2019|764 13th St, San ...|            379.99|\n|  162012|AA Batteries (4-p...|       1|  3.84|03-20-2019|187 Ridge St, San...|              3.84|\n|  162013|34in Ultrawide Mo...|       1|379.99|03-15-2019|904 Main St, Aust...|            379.99|\n|  162014|USB-C Charging Cable|       1| 11.95|03-01-2019|10 13th St, San F...|             11.95|\n|  162015|AA Batteries (4-p...|       1|  3.84|03-02-2019|949 Jefferson St,...|              3.84|\n|  162016|AAA Batteries (4-...|       5|  2.99|03-19-2019|469 Highland St, ...|14.950000000000001|\n|  162017|Lightning Chargin...|       1| 14.95|03-02-2019|449 River St, San...|             14.95|\n|  162018|USB-C Charging Cable|       2| 11.95|03-18-2019|925 Maple St, Por...|              23.9|\n|  162019|AAA Batteries (4-...|       1|  2.99|03-05-2019|639 4th St, Atlan...|              2.99|\n|  162020|  LG Washing Machine|       1| 600.0|03-26-2019|616 Jackson St, D...|             600.0|\n|  162021|    Wired Headphones|       1| 11.99|03-30-2019|645 Wilson St, Lo...|             11.99|\n|  162022|AA Batteries (4-p...|       1|  3.84|03-17-2019|473 Hill St, New ...|              3.84|\n|  162023|Apple Airpods Hea...|       1| 150.0|03-11-2019|404 Park St, San ...|             150.0|\n|  162024|27in 4K Gaming Mo...|       1|389.99|03-17-2019|952 Willow St, At...|            389.99|\n|  162025|AAA Batteries (4-...|       1|  2.99|03-07-2019|110 7th St, Bosto...|              2.99|\n|  162026|              iPhone|       1| 700.0|03-22-2019|71 Pine St, Austi...|             700.0|\n+--------+--------------------+--------+------+----------+--------------------+------------------+\nonly showing top 20 rows\n\n"
     ]
    }
   ],
   "source": [
    "#Add Sales Column\n",
    "\n",
    "df2=df2.withColumn('sales',((df2.Quantity)*(df2.Price)))\n",
    "df2.show()\n",
    "df2.createOrReplaceTempView(\"orders\")\n"
   ]
  },
  {
   "cell_type": "code",
   "execution_count": 0,
   "metadata": {
    "application/vnd.databricks.v1+cell": {
     "cellMetadata": {
      "byteLimit": 2048000,
      "rowLimit": 10000
     },
     "inputWidgets": {},
     "nuid": "f34658c2-84c4-4afe-8c77-a22be8d556ff",
     "showTitle": false,
     "title": ""
    }
   },
   "outputs": [
    {
     "output_type": "stream",
     "name": "stdout",
     "output_type": "stream",
     "text": [
      "+----------+------------------+---------+\n|Order_date|           Product|max_sales|\n+----------+------------------+---------+\n|03-18-2019|Macbook Pro Laptop|  32300.0|\n+----------+------------------+---------+\n\n"
     ]
    }
   ],
   "source": [
    "#2.\tGet the date on which max sales was done by product in these 3 months\n",
    "max_sales_by_product=spark.sql(\"select Order_date,Product,sum(sales) as max_sales from orders group by Product,Order_date order by max_sales desc limit 1\").show()"
   ]
  },
  {
   "cell_type": "code",
   "execution_count": 0,
   "metadata": {
    "application/vnd.databricks.v1+cell": {
     "cellMetadata": {
      "byteLimit": 2048000,
      "rowLimit": 10000
     },
     "inputWidgets": {},
     "nuid": "886fd9d5-15b2-4743-ae08-4afcbfa9746d",
     "showTitle": false,
     "title": ""
    }
   },
   "outputs": [
    {
     "output_type": "stream",
     "name": "stdout",
     "output_type": "stream",
     "text": [
      "+----------+------------------+\n|Order_date|         max_sales|\n+----------+------------------+\n|03-22-2019|102992.10999999993|\n+----------+------------------+\n\n"
     ]
    }
   ],
   "source": [
    "#3.\tGet the date on which max sales was done for all products in these 3 months\n",
    "max_sales_date=spark.sql(\"select Order_date,sum(sales) as max_sales from orders group by Order_date order by max_sales desc limit 1\").show()"
   ]
  },
  {
   "cell_type": "code",
   "execution_count": 0,
   "metadata": {
    "application/vnd.databricks.v1+cell": {
     "cellMetadata": {
      "byteLimit": 2048000,
      "rowLimit": 10000
     },
     "inputWidgets": {},
     "nuid": "cd09b230-c436-41e9-b73a-5f056a281187",
     "showTitle": false,
     "title": ""
    }
   },
   "outputs": [
    {
     "output_type": "stream",
     "name": "stdout",
     "output_type": "stream",
     "text": [
      "+--------------------+------------------+\n|             Product|         max_sales|\n+--------------------+------------------+\n|  Macbook Pro Laptop|            1700.0|\n|     ThinkPad Laptop|1001.1847311827918|\n|              iPhone| 700.5166051660517|\n|        Google Phone| 601.5530629853322|\n|            LG Dryer|             600.0|\n|  LG Washing Machine|             600.0|\n|     Vareebadd Phone| 400.9367681498829|\n|27in 4K Gaming Mo...| 390.9521463815789|\n|34in Ultrawide Mo...|381.20402555910533|\n|       Flatscreen TV| 301.3114754098361|\n|Apple Airpods Hea...|150.76628352490422|\n|    27in FHD Monitor|150.69182486631038|\n|        20in Monitor|110.69326086956568|\n|Bose SoundSport H...|101.00000000000091|\n|Lightning Chargin...|16.038626660341954|\n|USB-C Charging Cable|13.095375982042984|\n|    Wired Headphones| 13.03612911939485|\n|AA Batteries (4-p...| 5.174857142857234|\n|AAA Batteries (4-...| 4.464702542581957|\n+--------------------+------------------+\n\n"
     ]
    }
   ],
   "source": [
    "#4.\tGet the average sales value for each product in these 3 months\n",
    "avg_sales_product=spark.sql(\"select Product,avg(sales) as max_sales from orders group by Product order by max_sales desc\").show()"
   ]
  },
  {
   "cell_type": "code",
   "execution_count": 0,
   "metadata": {
    "application/vnd.databricks.v1+cell": {
     "cellMetadata": {
      "byteLimit": 2048000,
      "rowLimit": 10000
     },
     "inputWidgets": {},
     "nuid": "bd90fdac-f0c3-4b62-bf09-b3489fb70e1b",
     "showTitle": false,
     "title": ""
    }
   },
   "outputs": [
    {
     "output_type": "stream",
     "name": "stdout",
     "output_type": "stream",
     "text": [
      "+--------+--------------------+--------+------+----------+--------------------+------+------------------+\n|Order_id|             Product|Quantity| Price|Order_date|             Address| sales|         salesdiff|\n+--------+--------------------+--------+------+----------+--------------------+------+------------------+\n|  162358|       Flatscreen TV|       1| 300.0|04-01-2019|444 12th St, New ...| 300.0|            294.02|\n|  162541|AAA Batteries (4-...|       2|  2.99|04-01-2019|672 2nd St, Atlan...|  5.98|            374.01|\n|  165007|34in Ultrawide Mo...|       1|379.99|04-01-2019|389 Willow St, Ne...|379.99|            365.04|\n|  165622|Lightning Chargin...|       1| 14.95|04-01-2019|65 Madison St, Bo...| 14.95|               0.0|\n|  166250|Lightning Chargin...|       1| 14.95|04-01-2019|159 Walnut St, Lo...| 14.95|             11.11|\n|  166309|AA Batteries (4-p...|       1|  3.84|04-01-2019|2 Church St, Seat...|  3.84|376.15000000000003|\n|  166567|34in Ultrawide Mo...|       1|379.99|04-01-2019|937 Cedar St, New...|379.99|             377.0|\n|  167231|AAA Batteries (4-...|       1|  2.99|04-01-2019|689 Hill St, San ...|  2.99|             387.0|\n|  167813|27in 4K Gaming Mo...|       1|389.99|04-01-2019|840 11th St, Seat...|389.99|            378.04|\n|  168905|USB-C Charging Cable|       1| 11.95|04-01-2019|241 Spruce St, Bo...| 11.95|            988.04|\n|  168905|     ThinkPad Laptop|       1|999.99|04-01-2019|241 Spruce St, Bo...|999.99|             988.0|\n|  168990|    Wired Headphones|       1| 11.99|04-01-2019|790 10th St, Bost...| 11.99|           1688.01|\n|  169177|  Macbook Pro Laptop|       1|1700.0|04-01-2019|220 1st St, New Y...|1700.0|           1550.01|\n|  169191|    27in FHD Monitor|       1|149.99|04-01-2019|310 Cherry St, Lo...|149.99|            146.15|\n|  174575|AA Batteries (4-p...|       1|  3.84|04-01-2019|969 Adams St, Bos...|  3.84| 96.14999999999999|\n|  174959|Bose SoundSport H...|       1| 99.99|04-01-2019|288 Lincoln St, N...| 99.99|               0.0|\n|  175769|Bose SoundSport H...|       1| 99.99|04-01-2019|974 13th St, New ...| 99.99|            500.01|\n|  175951|            LG Dryer|       1| 600.0|04-01-2019|469 Walnut St, Da...| 600.0|            585.05|\n|  162032|Lightning Chargin...|       1| 14.95|03-31-2019|498 4th St, Los A...| 14.95|             11.11|\n|  162048|AA Batteries (4-p...|       1|  3.84|03-31-2019|819 Main St, New ...|  3.84|              8.15|\n+--------+--------------------+--------+------+----------+--------------------+------+------------------+\nonly showing top 20 rows\n\n"
     ]
    }
   ],
   "source": [
    "#5.\tCreate a combined dataset merging all these 3 datasets with order by date in desc order and add a new column which is “salesdiff” where this column will contain the difference of the sales in the current row (current date of that row) and the next row (previous date of that row, as the date columns are sorted by desc) grouped on the product. For the last row, next row will be blank so consider the sales as 0\n",
    "\n",
    "sales_diff=spark.sql(\"select *,ABS((lead(sales,1) over( order by Order_date desc))-sales) as salesdiff from orders\").show()\n"
   ]
  },
  {
   "cell_type": "code",
   "execution_count": 0,
   "metadata": {
    "application/vnd.databricks.v1+cell": {
     "cellMetadata": {
      "byteLimit": 2048000,
      "rowLimit": 10000
     },
     "inputWidgets": {},
     "nuid": "21f2622b-6868-4366-b247-1e18af9ac772",
     "showTitle": false,
     "title": ""
    }
   },
   "outputs": [
    {
     "output_type": "stream",
     "name": "stdout",
     "output_type": "stream",
     "text": [
      "+--------+--------------------+---------+\n|Order_id|             Address|max_sales|\n+--------+--------------------+---------+\n|  149611|850 6th St, New Y...|  1999.98|\n+--------+--------------------+---------+\n\n"
     ]
    }
   ],
   "source": [
    "#6.\tGet the orderId and purchase address details who made max sales in all the 3 months\n",
    "\n",
    "max_purchase_order=spark.sql(\"select Order_id,Address,max(sales) as max_sales from orders group by Order_id,Address order by max_sales desc limit 1 \").show()"
   ]
  },
  {
   "cell_type": "code",
   "execution_count": 0,
   "metadata": {
    "application/vnd.databricks.v1+cell": {
     "cellMetadata": {
      "byteLimit": 2048000,
      "rowLimit": 10000
     },
     "inputWidgets": {},
     "nuid": "6fe6ed37-f482-4618-8852-abf34e4c929a",
     "showTitle": false,
     "title": ""
    }
   },
   "outputs": [
    {
     "output_type": "stream",
     "name": "stdout",
     "output_type": "stream",
     "text": [
      "+--------------+------------+\n|          city|No_of_orders|\n+--------------+------------+\n| San Francisco|        8863|\n+--------------+------------+\n\n"
     ]
    }
   ],
   "source": [
    "#7:\tExtract city from the purchase address column which is 2nd element in , delimited separated string and determine the city from where more orders came in all these 3 months\n",
    "\n",
    "from pyspark.sql.functions import split, col, count, desc\n",
    "\n",
    "df_city2=spark.sql(\"SELECT SUBSTRING_INDEX(SUBSTRING_INDEX(Address, ',', 2), ',', -1) AS City FROM Orders\").createOrReplaceTempView(\"OrdersWithCity\")\n",
    "\n",
    "\n",
    "address_city_df=spark.sql(\"select * from OrdersWithCity\")\n",
    "\n",
    "#address_city_df.show()\n",
    "\n",
    "Max_orders_from_city_df=spark.sql(\"select city,count(*) as No_of_orders from OrdersWithCity group by city order by No_of_orders desc limit 1 \").show()\n"
   ]
  },
  {
   "cell_type": "code",
   "execution_count": 0,
   "metadata": {
    "application/vnd.databricks.v1+cell": {
     "cellMetadata": {
      "byteLimit": 2048000,
      "rowLimit": 10000
     },
     "inputWidgets": {},
     "nuid": "2ff4f80e-6d85-4d41-9103-cae6444eccee",
     "showTitle": false,
     "title": ""
    }
   },
   "outputs": [
    {
     "output_type": "stream",
     "name": "stdout",
     "output_type": "stream",
     "text": [
      "+--------------+------------+\n|          city|No_of_orders|\n+--------------+------------+\n| San Francisco|        8863|\n|   Los Angeles|        5886|\n| New York City|        4895|\n|        Boston|        3952|\n|        Dallas|        2968|\n|       Atlanta|        2967|\n|       Seattle|        2855|\n|      Portland|        2442|\n|        Austin|        1993|\n+--------------+------------+\n\n"
     ]
    }
   ],
   "source": [
    "#8.\tGet the total order count details for each city in all the 3 months\n",
    "\n",
    "Total_orders_from_cities_df=spark.sql(\"select city,count(*) as No_of_orders from OrdersWithCity where city IS NOT NULL group by city order by No_of_orders desc\").show()\n"
   ]
  },
  {
   "cell_type": "code",
   "execution_count": 0,
   "metadata": {
    "application/vnd.databricks.v1+cell": {
     "cellMetadata": {
      "byteLimit": 2048000,
      "rowLimit": 10000
     },
     "inputWidgets": {},
     "nuid": "9b09d847-1735-4a17-9bde-949ed3f05500",
     "showTitle": false,
     "title": ""
    }
   },
   "outputs": [],
   "source": []
  }
 ],
 "metadata": {
  "application/vnd.databricks.v1+notebook": {
   "dashboards": [],
   "language": "python",
   "notebookMetadata": {
    "pythonIndentUnit": 4
   },
   "notebookName": "Databricks-Pyspark-Sales-Solution",
   "widgets": {}
  }
 },
 "nbformat": 4,
 "nbformat_minor": 0
}
